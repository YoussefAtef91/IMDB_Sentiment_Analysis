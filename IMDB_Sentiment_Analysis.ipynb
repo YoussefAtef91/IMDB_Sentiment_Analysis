{
  "nbformat": 4,
  "nbformat_minor": 0,
  "metadata": {
    "colab": {
      "provenance": []
    },
    "kernelspec": {
      "name": "python3",
      "display_name": "Python 3"
    },
    "language_info": {
      "name": "python"
    },
    "accelerator": "GPU",
    "gpuClass": "standard"
  },
  "cells": [
    {
      "cell_type": "markdown",
      "source": [
        "# Context\n",
        "Building a sentiment analysis model using IMDB reviews dataset"
      ],
      "metadata": {
        "id": "kdYBM9ahBqZm"
      }
    },
    {
      "cell_type": "markdown",
      "source": [
        "# Importings"
      ],
      "metadata": {
        "id": "i7y6oExaCtE8"
      }
    },
    {
      "cell_type": "code",
      "source": [
        "import numpy as np \n",
        "import matplotlib.pyplot as plt \n",
        "\n",
        "import pathlib, os, shutil, random, string\n",
        "\n",
        "import tensorflow as tf\n",
        "from tensorflow import keras\n",
        "from keras.layers import TextVectorization\n",
        "from keras.utils import text_dataset_from_directory\n",
        "\n",
        "# Install tree\n",
        "!apt-get update\n",
        "!apt-get install tree"
      ],
      "metadata": {
        "id": "YEb2nb0STO8g",
        "colab": {
          "base_uri": "https://localhost:8080/"
        },
        "outputId": "175e7f0e-f54d-469c-e6cd-2fe43dca4c4f"
      },
      "execution_count": 2,
      "outputs": [
        {
          "output_type": "stream",
          "name": "stdout",
          "text": [
            "\r0% [Working]\r            \rGet:1 http://security.ubuntu.com/ubuntu focal-security InRelease [114 kB]\n",
            "\r0% [Connecting to archive.ubuntu.com] [1 InRelease 14.2 kB/114 kB 12%] [Waiting\r                                                                               \rGet:2 https://cloud.r-project.org/bin/linux/ubuntu focal-cran40/ InRelease [3,622 B]\n",
            "\r0% [Connecting to archive.ubuntu.com] [1 InRelease 14.2 kB/114 kB 12%] [2 InRel\r0% [Connecting to archive.ubuntu.com] [1 InRelease 14.2 kB/114 kB 12%] [Waiting\r                                                                               \rIgn:3 https://developer.download.nvidia.com/compute/machine-learning/repos/ubuntu2004/x86_64  InRelease\n",
            "\r0% [Waiting for headers] [1 InRelease 57.6 kB/114 kB 51%] [Waiting for headers]\r                                                                               \rGet:4 https://developer.download.nvidia.com/compute/cuda/repos/ubuntu2004/x86_64  InRelease [1,581 B]\n",
            "\r0% [Waiting for headers] [1 InRelease 75.0 kB/114 kB 66%] [Connecting to ppa.la\r                                                                               \rHit:5 http://archive.ubuntu.com/ubuntu focal InRelease\n",
            "Hit:6 https://developer.download.nvidia.com/compute/machine-learning/repos/ubuntu2004/x86_64  Release\n",
            "Get:7 http://archive.ubuntu.com/ubuntu focal-updates InRelease [114 kB]\n",
            "Hit:8 http://ppa.launchpad.net/c2d4u.team/c2d4u4.0+/ubuntu focal InRelease\n",
            "Get:9 http://archive.ubuntu.com/ubuntu focal-backports InRelease [108 kB]\n",
            "Get:10 https://developer.download.nvidia.com/compute/cuda/repos/ubuntu2004/x86_64  Packages [908 kB]\n",
            "Hit:11 http://ppa.launchpad.net/cran/libgit2/ubuntu focal InRelease\n",
            "Hit:13 http://ppa.launchpad.net/deadsnakes/ppa/ubuntu focal InRelease\n",
            "Get:14 http://security.ubuntu.com/ubuntu focal-security/universe amd64 Packages [1,015 kB]\n",
            "Hit:15 http://ppa.launchpad.net/graphics-drivers/ppa/ubuntu focal InRelease\n",
            "Get:16 http://archive.ubuntu.com/ubuntu focal-updates/main amd64 Packages [3,014 kB]\n",
            "Hit:17 http://ppa.launchpad.net/ubuntugis/ppa/ubuntu focal InRelease\n",
            "Get:18 http://archive.ubuntu.com/ubuntu focal-updates/universe amd64 Packages [1,311 kB]\n",
            "Fetched 6,590 kB in 2s (3,918 kB/s)\n",
            "Reading package lists... Done\n",
            "Reading package lists... Done\n",
            "Building dependency tree       \n",
            "Reading state information... Done\n",
            "The following NEW packages will be installed:\n",
            "  tree\n",
            "0 upgraded, 1 newly installed, 0 to remove and 22 not upgraded.\n",
            "Need to get 43.0 kB of archives.\n",
            "After this operation, 115 kB of additional disk space will be used.\n",
            "Get:1 http://archive.ubuntu.com/ubuntu focal/universe amd64 tree amd64 1.8.0-1 [43.0 kB]\n",
            "Fetched 43.0 kB in 0s (269 kB/s)\n",
            "Selecting previously unselected package tree.\n",
            "(Reading database ... 128275 files and directories currently installed.)\n",
            "Preparing to unpack .../tree_1.8.0-1_amd64.deb ...\n",
            "Unpacking tree (1.8.0-1) ...\n",
            "Setting up tree (1.8.0-1) ...\n",
            "Processing triggers for man-db (2.9.1-1) ...\n"
          ]
        }
      ]
    },
    {
      "cell_type": "markdown",
      "source": [
        "\n",
        "# Dataset\n",
        "In this proejct, we're gonna use the dataset from [the Stanford page of Andrew Maas](https:/ /ai.stanford.edu/~amaas/data/sentiment)"
      ],
      "metadata": {
        "id": "Kzeg8pZnC4H9"
      }
    },
    {
      "cell_type": "code",
      "source": [
        "# Download and unzip the dataset\n",
        "!curl -O https://ai.stanford.edu/~amaas/data/sentiment/aclImdb_v1.tar.gz\n",
        "!tar -xf aclImdb_v1.tar.gz"
      ],
      "metadata": {
        "id": "75QngjU8hDOd",
        "colab": {
          "base_uri": "https://localhost:8080/"
        },
        "outputId": "39019e43-cec0-4d31-b421-a319aa0756c1"
      },
      "execution_count": 3,
      "outputs": [
        {
          "output_type": "stream",
          "name": "stdout",
          "text": [
            "  % Total    % Received % Xferd  Average Speed   Time    Time     Time  Current\n",
            "                                 Dload  Upload   Total   Spent    Left  Speed\n",
            "100 80.2M  100 80.2M    0     0  29.4M      0  0:00:02  0:00:02 --:--:-- 29.4M\n"
          ]
        }
      ]
    },
    {
      "cell_type": "markdown",
      "source": [
        "# Data directory structure"
      ],
      "metadata": {
        "id": "ot1NPi0hDH9l"
      }
    },
    {
      "cell_type": "code",
      "source": [
        "!tree -d aclImdb"
      ],
      "metadata": {
        "colab": {
          "base_uri": "https://localhost:8080/"
        },
        "id": "hLIbwVCJh8ps",
        "outputId": "c590b975-377c-4f65-ddca-ce9a00ff3392"
      },
      "execution_count": 4,
      "outputs": [
        {
          "output_type": "stream",
          "name": "stdout",
          "text": [
            "\u001b[01;34maclImdb\u001b[00m\n",
            "├── \u001b[01;34mtest\u001b[00m\n",
            "│   ├── \u001b[01;34mneg\u001b[00m\n",
            "│   └── \u001b[01;34mpos\u001b[00m\n",
            "└── \u001b[01;34mtrain\u001b[00m\n",
            "    ├── \u001b[01;34mneg\u001b[00m\n",
            "    ├── \u001b[01;34mpos\u001b[00m\n",
            "    └── \u001b[01;34munsup\u001b[00m\n",
            "\n",
            "7 directories\n"
          ]
        }
      ]
    },
    {
      "cell_type": "markdown",
      "source": [
        "We have two directories for training and testing datasets, each one has two classes, negative and positive. There's also train/unsup, we don't want that. Let's delete it."
      ],
      "metadata": {
        "id": "0Ikg3ikFjUNG"
      }
    },
    {
      "cell_type": "code",
      "source": [
        "!rm -r aclImdb/train/unsup"
      ],
      "metadata": {
        "id": "f_qbcD80jYjb"
      },
      "execution_count": 5,
      "outputs": []
    },
    {
      "cell_type": "markdown",
      "source": [
        "Let's take a look at the content of a text file in the train dataset"
      ],
      "metadata": {
        "id": "NZ-uWPptju0F"
      }
    },
    {
      "cell_type": "code",
      "source": [
        "!cat aclImdb/train/pos/0_9.txt"
      ],
      "metadata": {
        "colab": {
          "base_uri": "https://localhost:8080/"
        },
        "id": "CIXHa5nojlSG",
        "outputId": "0d3706e8-3f8c-49aa-b38e-5b80cfd6c9ba"
      },
      "execution_count": 6,
      "outputs": [
        {
          "output_type": "stream",
          "name": "stdout",
          "text": [
            "Bromwell High is a cartoon comedy. It ran at the same time as some other programs about school life, such as \"Teachers\". My 35 years in the teaching profession lead me to believe that Bromwell High's satire is much closer to reality than is \"Teachers\". The scramble to survive financially, the insightful students who can see right through their pathetic teachers' pomp, the pettiness of the whole situation, all remind me of the schools I knew and their students. When I saw the episode in which a student repeatedly tried to burn down the school, I immediately recalled ......... at .......... High. A classic line: INSPECTOR: I'm here to sack one of your teachers. STUDENT: Welcome to Bromwell High. I expect that many adults of my age think that Bromwell High is far fetched. What a pity that it isn't!"
          ]
        }
      ]
    },
    {
      "cell_type": "markdown",
      "source": [
        "We will now take 20% of the train set to create a validation set in a new directory aclImdb/val"
      ],
      "metadata": {
        "id": "SaC4Ccu_kWXw"
      }
    },
    {
      "cell_type": "code",
      "source": [
        "base_dir = pathlib.Path(\"aclImdb\")\n",
        "train_dir = base_dir / \"train\"\n",
        "val_dir = base_dir / \"val\"\n",
        "\n",
        "os.makedirs(val_dir)\n",
        "\n",
        "for cat in (\"neg\",\"pos\"):\n",
        "  os.makedirs(val_dir / cat)\n",
        "  fnames = os.listdir(train_dir / cat)\n",
        "  random.Random(42).shuffle(fnames)\n",
        "  val_size = int(len(fnames) * 0.2)\n",
        "  val_files = fnames[-val_size:]\n",
        "  for f in val_files:\n",
        "     shutil.move(train_dir/cat/f,val_dir/cat)"
      ],
      "metadata": {
        "id": "vcjDX8GNkEt0"
      },
      "execution_count": 7,
      "outputs": []
    },
    {
      "cell_type": "code",
      "source": [
        "print(f\"Train neg: {len(os.listdir(train_dir/'neg'))}, Train pos: {len(os.listdir(train_dir/'pos'))}\")\n",
        "print(f\"Val neg: {len(os.listdir(val_dir/'neg'))}, Val pos: {len(os.listdir(val_dir/'pos'))}\")\n"
      ],
      "metadata": {
        "colab": {
          "base_uri": "https://localhost:8080/"
        },
        "id": "RzbVohq4VoI_",
        "outputId": "9c6e1306-a10d-4ddd-8084-baed34034c1b"
      },
      "execution_count": 8,
      "outputs": [
        {
          "output_type": "stream",
          "name": "stdout",
          "text": [
            "Train neg: 10000, Train pos: 10000\n",
            "Val neg: 2500, Val pos: 2500\n"
          ]
        }
      ]
    },
    {
      "cell_type": "code",
      "source": [
        "# Load the data in a Dataset objects\n",
        "batch_size = 32\n",
        "train_ds = text_dataset_from_directory(base_dir/\"train\",batch_size=batch_size)\n",
        "val_ds = text_dataset_from_directory(base_dir/\"val\",batch_size=batch_size)\n",
        "test_ds = text_dataset_from_directory(base_dir/\"test\",batch_size=batch_size)"
      ],
      "metadata": {
        "colab": {
          "base_uri": "https://localhost:8080/"
        },
        "id": "lQbU_0gjW8_m",
        "outputId": "4858407a-e334-4d03-e7a4-bc2cb8188328"
      },
      "execution_count": 9,
      "outputs": [
        {
          "output_type": "stream",
          "name": "stdout",
          "text": [
            "Found 20000 files belonging to 2 classes.\n",
            "Found 5000 files belonging to 2 classes.\n",
            "Found 25000 files belonging to 2 classes.\n"
          ]
        }
      ]
    },
    {
      "cell_type": "code",
      "source": [
        "for inputs, targets in train_ds:\n",
        "  print(f\"Input shape: {inputs.shape}\")\n",
        "  print(f\"Input Dtype: {inputs.dtype}\")\n",
        "  print(f\"Input[0]: {inputs[0]}\")\n",
        "  print()\n",
        "  print(f\"Target shape: {targets.shape}\")\n",
        "  print(f\"Target Dtype: {targets.dtype}\")\n",
        "  print(f\"Target[0]: {targets[0]}\")\n",
        "  break"
      ],
      "metadata": {
        "colab": {
          "base_uri": "https://localhost:8080/"
        },
        "id": "pLmgsuhzZBXl",
        "outputId": "9558cf60-fc0e-4bab-8890-5cb96ea355d5"
      },
      "execution_count": 10,
      "outputs": [
        {
          "output_type": "stream",
          "name": "stdout",
          "text": [
            "Input shape: (32,)\n",
            "Input Dtype: <dtype: 'string'>\n",
            "Input[0]: b\"Class Reunion is a very underated comedy gem. It's 1982 and the 1972 class of Lizzie Borden High return for there 10 year reunion, among them are the usual stereotypes, the hunk, babe, the fat guy & nerd etc, but the former students are in for a bumpy night, one of their classmates is Walter Baloer, the class wimp who was subject to a comedy prank by the rest of the class on graduation night and since then has been in a mental home, Walter escapes and now plans to avenge his humiliation,,,,<br /><br />Despite the dark premise, this is really just an excuse for lots of very funny gags & set pieces. To say too much more would spoil the film but if you enjoyed the Naked Gun & Airplane movies you'll love this, & what other film offers a music cameo by Chuck Berry?. A great comedy which deserves a wider audience.\"\n",
            "\n",
            "Target shape: (32,)\n",
            "Target Dtype: <dtype: 'int32'>\n",
            "Target[0]: 1\n"
          ]
        }
      ]
    },
    {
      "cell_type": "markdown",
      "source": [
        "# Baseline Model and Performance Measure\n",
        "Since the dataset is a balanced two-class classification, our naive baseline would be 50%, and the performance measure would be the accuracy"
      ],
      "metadata": {
        "id": "I_XR-FuAI762"
      }
    },
    {
      "cell_type": "markdown",
      "source": [
        "# Models Arcitectures\n",
        "\n",
        "\n",
        "1.  Binary Unigram Dense Model\n",
        "  *   TextVectorization => output_mode(multi_hot) + ngrams(1)\n",
        "  *   Input_layer => shape = (20000,)\n",
        "  *   Hidden_layers => Dense(16,relu) + Dropout(0.5)\n",
        "  *   Output_layer => Dense(1, sigmoid)\n",
        "2.   Binary Bigram Dense Model\n",
        "  *   TextVectorization => output_mode(multi_hot) + ngrams(2)\n",
        "  *   Input_layer => shape = (20000,)\n",
        "  *   Hidden_layers => Dense(16,relu) + Dropout(0.5)\n",
        "  *   Output_layer => Dense(1, sigmoid)\n",
        "3.   Binary TF-IDF Dense Model\n",
        "  *   TextVectorization => output_mode(tf_idf) + ngrams(2)\n",
        "  *   Input_layer => shape = (20000,)\n",
        "  *   Hidden_layers => Dense(16,relu) + Dropout(0.5)\n",
        "  *   Output_layer => Dense(1, sigmoid)\n",
        "4.   One-Hot Bidirectional LSTM Model\n",
        "  *   TextVectorization => output_mode(int)\n",
        "  *   Input_layer => shape = (20000,)\n",
        "  *   Hidden_layers => one_hot() + Bidirectioanl_LSTM(32) + Dropout(0.5)\n",
        "  *   Output_layer => Dense(1, sigmoid)\n",
        "5.   Embedding Bidirectional LSTM Model\n",
        "  *   TextVectorization => output_mode(int)\n",
        "  *   Input_layer => shape = (20000,)\n",
        "  *   Hidden_layers => Embedding(256) + Bidirectioanl_LSTM(32) + Dropout(0.5)\n",
        "  *   Output_layer => Dense(1, sigmoid)\n",
        "6.   Pre-trained Embedding Bidirectional LSTM Model\n",
        "  *   TextVectorization => output_mode(int)\n",
        "  *   Input_layer => shape = (20000,)\n",
        "  *   Hidden_layers => Embedding(100) + Bidirectioanl_LSTM(32) + Dropout(0.5)\n",
        "  *   Output_layer => Dense(1, sigmoid)\n",
        "7. TransformerEncoder Model\n",
        "  *   TextVectorization => output_mode(int)\n",
        "  *   Input_layer => shape = (20000,)\n",
        "  *   Hidden_layers => Embedding(256) + TransformerEncoder(32) + GlobalMaxPooling1D() + Dropout(0.5)\n",
        "  *   Output_layer => Dense(1, sigmoid)\n",
        "8. TransformerEncoder with PositionalEmbedding Model\n",
        "  *   TextVectorization => output_mode(int)\n",
        "  *   Input_layer => shape = (20000,)\n",
        "  *   Hidden_layers => PositionalEmbedding(256) + TransformerEncoder(32) + GlobalMaxPooling1D() + Dropout(0.5)\n",
        "  *   Output_layer => Dense(1, sigmoid)"
      ],
      "metadata": {
        "id": "Fek_VWWhEE9_"
      }
    },
    {
      "cell_type": "markdown",
      "source": [
        "## 1. Binary Unigram Dense Model"
      ],
      "metadata": {
        "id": "QZjDrQq2hSPt"
      }
    },
    {
      "cell_type": "code",
      "source": [
        "train_ds_x = train_ds.map(lambda x,y: x)\n",
        "max_tokens = 20_000\n",
        "\n",
        "text_vectorization = TextVectorization(max_tokens=max_tokens,output_mode=\"multi_hot\")\n",
        "text_vectorization.adapt(train_ds_x)\n",
        "\n",
        "train_ds_multi_hot = train_ds.map(lambda x,y: (text_vectorization(x),y), num_parallel_calls=4)\n",
        "val_ds_multi_hot = val_ds.map(lambda x,y: (text_vectorization(x),y), num_parallel_calls=4)\n",
        "test_ds_multi_hot = test_ds.map(lambda x,y: (text_vectorization(x),y), num_parallel_calls=4)"
      ],
      "metadata": {
        "id": "CMxkyECaZmL4",
        "colab": {
          "base_uri": "https://localhost:8080/"
        },
        "outputId": "30b97064-2a0a-43e3-d7e5-9ec5cfa3ca67"
      },
      "execution_count": 11,
      "outputs": [
        {
          "output_type": "stream",
          "name": "stderr",
          "text": [
            "WARNING:tensorflow:From /usr/local/lib/python3.9/dist-packages/tensorflow/python/autograph/pyct/static_analysis/liveness.py:83: Analyzer.lamba_check (from tensorflow.python.autograph.pyct.static_analysis.liveness) is deprecated and will be removed after 2023-09-23.\n",
            "Instructions for updating:\n",
            "Lambda fuctions will be no more assumed to be used in the statement where they are used, or at least in the same block. https://github.com/tensorflow/tensorflow/issues/56089\n"
          ]
        }
      ]
    },
    {
      "cell_type": "code",
      "source": [
        "inputs = keras.Input(shape=(max_tokens,))\n",
        "x = keras.layers.Dense(16,activation=\"relu\")(inputs)\n",
        "x = keras.layers.Dropout(0.5)(x)\n",
        "outputs = keras.layers.Dense(1, activation=\"sigmoid\")(x)\n",
        "model = keras.Model(inputs,outputs)\n",
        "\n",
        "model.compile(loss=\"binary_crossentropy\",optimizer=\"rmsprop\",metrics=[\"accuracy\"])\n",
        "\n",
        "callbacks = [keras.callbacks.ModelCheckpoint(\"binary_unigram_dense.keras\",save_best_only=True)]\n",
        "\n",
        "history = model.fit(train_ds_multi_hot.cache(), epochs=10, validation_data=val_ds_multi_hot.cache(), callbacks=callbacks)"
      ],
      "metadata": {
        "colab": {
          "base_uri": "https://localhost:8080/"
        },
        "id": "Pi04fkzVa77V",
        "outputId": "003b8202-98e8-49c7-bba5-31453f6dd73e"
      },
      "execution_count": 12,
      "outputs": [
        {
          "output_type": "stream",
          "name": "stdout",
          "text": [
            "Epoch 1/10\n",
            "625/625 [==============================] - 10s 9ms/step - loss: 0.4257 - accuracy: 0.8189 - val_loss: 0.3007 - val_accuracy: 0.8794\n",
            "Epoch 2/10\n",
            "625/625 [==============================] - 3s 4ms/step - loss: 0.2858 - accuracy: 0.8978 - val_loss: 0.2931 - val_accuracy: 0.8890\n",
            "Epoch 3/10\n",
            "625/625 [==============================] - 3s 6ms/step - loss: 0.2505 - accuracy: 0.9108 - val_loss: 0.2979 - val_accuracy: 0.8904\n",
            "Epoch 4/10\n",
            "625/625 [==============================] - 3s 5ms/step - loss: 0.2282 - accuracy: 0.9209 - val_loss: 0.3176 - val_accuracy: 0.8894\n",
            "Epoch 5/10\n",
            "625/625 [==============================] - 3s 4ms/step - loss: 0.2251 - accuracy: 0.9254 - val_loss: 0.3270 - val_accuracy: 0.8900\n",
            "Epoch 6/10\n",
            "625/625 [==============================] - 3s 5ms/step - loss: 0.2172 - accuracy: 0.9287 - val_loss: 0.3369 - val_accuracy: 0.8836\n",
            "Epoch 7/10\n",
            "625/625 [==============================] - 3s 4ms/step - loss: 0.2152 - accuracy: 0.9294 - val_loss: 0.3494 - val_accuracy: 0.8816\n",
            "Epoch 8/10\n",
            "625/625 [==============================] - 3s 4ms/step - loss: 0.2101 - accuracy: 0.9327 - val_loss: 0.3547 - val_accuracy: 0.8816\n",
            "Epoch 9/10\n",
            "625/625 [==============================] - 3s 5ms/step - loss: 0.2055 - accuracy: 0.9315 - val_loss: 0.3592 - val_accuracy: 0.8770\n",
            "Epoch 10/10\n",
            "625/625 [==============================] - 3s 4ms/step - loss: 0.2136 - accuracy: 0.9355 - val_loss: 0.3678 - val_accuracy: 0.8772\n"
          ]
        }
      ]
    },
    {
      "cell_type": "code",
      "source": [
        "train_acc = history.history[\"accuracy\"]\n",
        "val_acc = history.history[\"val_accuracy\"]\n",
        "plt.plot(train_acc,\"b.\",label=\"Train Accuracy\")\n",
        "plt.plot(val_acc,\"b-\",label=\"Validation Accuracy\")\n",
        "plt.xlabel(\"Epochs\")\n",
        "plt.ylabel(\"Accuracy\")\n",
        "plt.title(\"Train vs Validation Accuarcy \\n(Binary Unigram Dense Model)\")\n",
        "plt.legend()\n",
        "plt.show()"
      ],
      "metadata": {
        "colab": {
          "base_uri": "https://localhost:8080/",
          "height": 310
        },
        "id": "krA9xNZWkIoA",
        "outputId": "1a598c2f-b243-4ae3-98c2-c1cd618a879d"
      },
      "execution_count": 13,
      "outputs": [
        {
          "output_type": "display_data",
          "data": {
            "text/plain": [
              "<Figure size 432x288 with 1 Axes>"
            ],
            "image/png": "[encoded data removed]"
          },
          "metadata": {
            "needs_background": "light"
          }
        }
      ]
    },
    {
      "cell_type": "code",
      "source": [
        "model = keras.models.load_model(\"binary_unigram_dense.keras\")\n",
        "loss, acc = model.evaluate(test_ds_multi_hot)\n",
        "print(f\"Accuracy: {acc:.3f}\")"
      ],
      "metadata": {
        "colab": {
          "base_uri": "https://localhost:8080/"
        },
        "id": "H76u1iWvlbEl",
        "outputId": "d8668320-1f4b-4a36-a324-36f1b58fa299"
      },
      "execution_count": 14,
      "outputs": [
        {
          "output_type": "stream",
          "name": "stdout",
          "text": [
            "782/782 [==============================] - 4s 5ms/step - loss: 0.2917 - accuracy: 0.8860\n",
            "Accuracy: 0.886\n"
          ]
        }
      ]
    },
    {
      "cell_type": "markdown",
      "source": [
        "## 2. Binary Bigram Dense Model\n"
      ],
      "metadata": {
        "id": "z-d-8QrClxrN"
      }
    },
    {
      "cell_type": "code",
      "source": [
        "text_vectorization = TextVectorization(max_tokens=max_tokens, ngrams=2, output_mode=\"multi_hot\")\n",
        "\n",
        "text_vectorization.adapt(train_ds_x)\n",
        "train_ds_2gram = train_ds.map(lambda x,y: (text_vectorization(x),y), num_parallel_calls=4)\n",
        "val_ds_2gram = val_ds.map(lambda x,y: (text_vectorization(x),y), num_parallel_calls=4)\n",
        "test_ds_2gram = test_ds.map(lambda x,y: (text_vectorization(x),y), num_parallel_calls=4)"
      ],
      "metadata": {
        "id": "ERs3KQXDmBJY"
      },
      "execution_count": 15,
      "outputs": []
    },
    {
      "cell_type": "code",
      "source": [
        "inputs = keras.Input(shape=max_tokens)\n",
        "x = keras.layers.Dense(16, activation=\"relu\")(inputs)\n",
        "x = keras.layers.Dropout(0.5)(x)\n",
        "outputs = keras.layers.Dense(1, activation=\"sigmoid\")(x)\n",
        "model = keras.Model(inputs, outputs)\n",
        "\n",
        "model.compile(loss=\"binary_crossentropy\",optimizer=\"rmsprop\",metrics=\"accuracy\")\n",
        "\n",
        "callbacks = [keras.callbacks.ModelCheckpoint(\"binary_bigram_dense.keras\", save_best_only=True)]\n",
        "\n",
        "history = model.fit(train_ds_2gram.cache(), epochs=10, validation_data=val_ds_2gram, callbacks=callbacks)"
      ],
      "metadata": {
        "colab": {
          "base_uri": "https://localhost:8080/"
        },
        "id": "akCvtE2amggc",
        "outputId": "c345afeb-1aa8-40dc-806e-255844ef7464"
      },
      "execution_count": 16,
      "outputs": [
        {
          "output_type": "stream",
          "name": "stdout",
          "text": [
            "Epoch 1/10\n",
            "625/625 [==============================] - 8s 11ms/step - loss: 0.3771 - accuracy: 0.8420 - val_loss: 0.2711 - val_accuracy: 0.8928\n",
            "Epoch 2/10\n",
            "625/625 [==============================] - 3s 5ms/step - loss: 0.2391 - accuracy: 0.9176 - val_loss: 0.2772 - val_accuracy: 0.8928\n",
            "Epoch 3/10\n",
            "625/625 [==============================] - 4s 6ms/step - loss: 0.1968 - accuracy: 0.9378 - val_loss: 0.2948 - val_accuracy: 0.8976\n",
            "Epoch 4/10\n",
            "625/625 [==============================] - 4s 6ms/step - loss: 0.1858 - accuracy: 0.9444 - val_loss: 0.3096 - val_accuracy: 0.8952\n",
            "Epoch 5/10\n",
            "625/625 [==============================] - 3s 5ms/step - loss: 0.1684 - accuracy: 0.9499 - val_loss: 0.3242 - val_accuracy: 0.8918\n",
            "Epoch 6/10\n",
            "625/625 [==============================] - 4s 7ms/step - loss: 0.1612 - accuracy: 0.9545 - val_loss: 0.3508 - val_accuracy: 0.8884\n",
            "Epoch 7/10\n",
            "625/625 [==============================] - 3s 5ms/step - loss: 0.1466 - accuracy: 0.9588 - val_loss: 0.3704 - val_accuracy: 0.8900\n",
            "Epoch 8/10\n",
            "625/625 [==============================] - 4s 6ms/step - loss: 0.1513 - accuracy: 0.9602 - val_loss: 0.3798 - val_accuracy: 0.8878\n",
            "Epoch 9/10\n",
            "625/625 [==============================] - 4s 7ms/step - loss: 0.1543 - accuracy: 0.9597 - val_loss: 0.3822 - val_accuracy: 0.8876\n",
            "Epoch 10/10\n",
            "625/625 [==============================] - 4s 6ms/step - loss: 0.1579 - accuracy: 0.9601 - val_loss: 0.4029 - val_accuracy: 0.8826\n"
          ]
        }
      ]
    },
    {
      "cell_type": "code",
      "source": [
        "train_acc = history.history[\"accuracy\"]\n",
        "val_acc = history.history[\"val_accuracy\"]\n",
        "plt.plot(train_acc,\"b.\",label=\"Train Accuracy\")\n",
        "plt.plot(val_acc,\"b-\",label=\"Validation Accuracy\")\n",
        "plt.xlabel(\"Epochs\")\n",
        "plt.ylabel(\"Accuracy\")\n",
        "plt.title(\"Train vs Validation Accuarcy \\n(Binary Bigram Dense Model)\")\n",
        "plt.legend()\n",
        "plt.show()"
      ],
      "metadata": {
        "colab": {
          "base_uri": "https://localhost:8080/",
          "height": 310
        },
        "id": "uFEVUtdMnprO",
        "outputId": "6ce72340-ddb6-4c7d-cd08-dc70a6858033"
      },
      "execution_count": 17,
      "outputs": [
        {
          "output_type": "display_data",
          "data": {
            "text/plain": [
              "<Figure size 432x288 with 1 Axes>"
            ],
            "image/png": "[encoded data removed]"
          },
          "metadata": {
            "needs_background": "light"
          }
        }
      ]
    },
    {
      "cell_type": "code",
      "source": [
        "model = keras.models.load_model(\"binary_bigram_dense.keras\")\n",
        "loss, acc = model.evaluate(test_ds_2gram)\n",
        "print(f\"Accuracy: {acc:.3f}\")"
      ],
      "metadata": {
        "colab": {
          "base_uri": "https://localhost:8080/"
        },
        "id": "5MvaSC99nvun",
        "outputId": "f7f25630-7ecc-42d6-e45f-90e420c48064"
      },
      "execution_count": 18,
      "outputs": [
        {
          "output_type": "stream",
          "name": "stdout",
          "text": [
            "782/782 [==============================] - 6s 7ms/step - loss: 0.2689 - accuracy: 0.8934\n",
            "Accuracy: 0.893\n"
          ]
        }
      ]
    },
    {
      "cell_type": "markdown",
      "source": [
        "## 3. Binary TF-IDF Dense Model"
      ],
      "metadata": {
        "id": "Ho_jA5V8o4oD"
      }
    },
    {
      "cell_type": "code",
      "source": [
        "text_vectorization = TextVectorization(ngrams=2, max_tokens=max_tokens, output_mode=\"tf_idf\")\n",
        "\n",
        "text_vectorization.adapt(train_ds_x)\n",
        "train_ds_bigram_tfidf = train_ds.map(lambda x,y: (text_vectorization(x),y), num_parallel_calls=True)\n",
        "val_ds_bigram_tfidf = val_ds.map(lambda x,y: (text_vectorization(x),y), num_parallel_calls=True)\n",
        "test_ds_bigram_tfidf = test_ds.map(lambda x,y: (text_vectorization(x),y), num_parallel_calls=True)\n"
      ],
      "metadata": {
        "id": "4Ck4X8qXoPhV"
      },
      "execution_count": 19,
      "outputs": []
    },
    {
      "cell_type": "code",
      "source": [
        "inputs = keras.Input(shape=max_tokens)\n",
        "x = keras.layers.Dense(16, activation=\"relu\")(inputs)\n",
        "x = keras.layers.Dropout(0.5)(x)\n",
        "outputs = keras.layers.Dense(1, activation=\"sigmoid\")(x)\n",
        "model = keras.Model(inputs, outputs)\n",
        "\n",
        "model.compile(loss=\"binary_crossentropy\",optimizer=\"rmsprop\",metrics=\"accuracy\")\n",
        "\n",
        "callbacks = [keras.callbacks.ModelCheckpoint(\"binary_tfidf_dense.keras\", save_best_only=True)]\n",
        "\n",
        "history = model.fit(train_ds_bigram_tfidf.cache(), epochs=10, validation_data=val_ds_bigram_tfidf, callbacks=callbacks)"
      ],
      "metadata": {
        "colab": {
          "base_uri": "https://localhost:8080/"
        },
        "id": "QswrXSsaphl4",
        "outputId": "8b1b531e-1689-4320-c438-7c7bb9895e0b"
      },
      "execution_count": 20,
      "outputs": [
        {
          "output_type": "stream",
          "name": "stdout",
          "text": [
            "Epoch 1/10\n",
            "625/625 [==============================] - 8s 11ms/step - loss: 0.4805 - accuracy: 0.7930 - val_loss: 0.3240 - val_accuracy: 0.8646\n",
            "Epoch 2/10\n",
            "625/625 [==============================] - 3s 5ms/step - loss: 0.3134 - accuracy: 0.8755 - val_loss: 0.3148 - val_accuracy: 0.8748\n",
            "Epoch 3/10\n",
            "625/625 [==============================] - 3s 5ms/step - loss: 0.2809 - accuracy: 0.8886 - val_loss: 0.3402 - val_accuracy: 0.8502\n",
            "Epoch 4/10\n",
            "625/625 [==============================] - 4s 7ms/step - loss: 0.2554 - accuracy: 0.8979 - val_loss: 0.3872 - val_accuracy: 0.8550\n",
            "Epoch 5/10\n",
            "625/625 [==============================] - 4s 6ms/step - loss: 0.2470 - accuracy: 0.9003 - val_loss: 0.3191 - val_accuracy: 0.8782\n",
            "Epoch 6/10\n",
            "625/625 [==============================] - 3s 5ms/step - loss: 0.2308 - accuracy: 0.9078 - val_loss: 0.3479 - val_accuracy: 0.8638\n",
            "Epoch 7/10\n",
            "625/625 [==============================] - 4s 6ms/step - loss: 0.2277 - accuracy: 0.9074 - val_loss: 0.3853 - val_accuracy: 0.8688\n",
            "Epoch 8/10\n",
            "625/625 [==============================] - 4s 6ms/step - loss: 0.2166 - accuracy: 0.9083 - val_loss: 0.3517 - val_accuracy: 0.8764\n",
            "Epoch 9/10\n",
            "625/625 [==============================] - 3s 5ms/step - loss: 0.2074 - accuracy: 0.9115 - val_loss: 0.3967 - val_accuracy: 0.8714\n",
            "Epoch 10/10\n",
            "625/625 [==============================] - 5s 9ms/step - loss: 0.2081 - accuracy: 0.9113 - val_loss: 0.4201 - val_accuracy: 0.8706\n"
          ]
        }
      ]
    },
    {
      "cell_type": "code",
      "source": [
        "train_acc = history.history[\"accuracy\"]\n",
        "val_acc = history.history[\"val_accuracy\"]\n",
        "plt.plot(train_acc,\"b.\",label=\"Train Accuracy\")\n",
        "plt.plot(val_acc,\"b-\",label=\"Validation Accuracy\")\n",
        "plt.xlabel(\"Epochs\")\n",
        "plt.ylabel(\"Accuracy\")\n",
        "plt.title(\"Train vs Validation Accuarcy \\n(Binary TF-IDF Dense Model)\")\n",
        "plt.legend()\n",
        "plt.show()"
      ],
      "metadata": {
        "colab": {
          "base_uri": "https://localhost:8080/",
          "height": 310
        },
        "id": "nywLq5oRpzNn",
        "outputId": "44df57ee-8806-49c4-9de4-543ec708d0b6"
      },
      "execution_count": 21,
      "outputs": [
        {
          "output_type": "display_data",
          "data": {
            "text/plain": [
              "<Figure size 432x288 with 1 Axes>"
            ],
            "image/png": "[encoded data removed]"
          },
          "metadata": {
            "needs_background": "light"
          }
        }
      ]
    },
    {
      "cell_type": "code",
      "source": [
        "model = keras.models.load_model(\"binary_tfidf_dense.keras\")\n",
        "loss, acc = model.evaluate(test_ds_bigram_tfidf)\n",
        "print(f\"Accuracy: {acc:.3f}\")"
      ],
      "metadata": {
        "colab": {
          "base_uri": "https://localhost:8080/"
        },
        "id": "nd79IwHwp7K9",
        "outputId": "9f6ff7ed-4ebc-42f0-cd40-b11cdb54bd0c"
      },
      "execution_count": 22,
      "outputs": [
        {
          "output_type": "stream",
          "name": "stdout",
          "text": [
            "782/782 [==============================] - 5s 6ms/step - loss: 0.3141 - accuracy: 0.8765\n",
            "Accuracy: 0.877\n"
          ]
        }
      ]
    },
    {
      "cell_type": "markdown",
      "source": [
        "## 4.  One-Hot Bidirectional LSTM Model"
      ],
      "metadata": {
        "id": "fye7dyKQqirY"
      }
    },
    {
      "cell_type": "code",
      "source": [
        "max_length = 600\n",
        "text_vectorization = TextVectorization(max_tokens=max_tokens,output_sequence_length=max_length,output_mode=\"int\")\n",
        "\n",
        "text_vectorization.adapt(train_ds_x)\n",
        "train_ds_int = train_ds.map(lambda x,y: (text_vectorization(x),y), num_parallel_calls=4)\n",
        "val_ds_int = val_ds.map(lambda x,y: (text_vectorization(x),y), num_parallel_calls=4)\n",
        "test_ds_int = test_ds.map(lambda x,y: (text_vectorization(x),y), num_parallel_calls=4)"
      ],
      "metadata": {
        "id": "LJUDgYD8p-lv"
      },
      "execution_count": 23,
      "outputs": []
    },
    {
      "cell_type": "code",
      "source": [
        "inputs = keras.Input(shape=(None,), dtype=\"int64\")\n",
        "embedded = tf.one_hot(inputs, depth=max_tokens)\n",
        "x = keras.layers.Bidirectional(keras.layers.LSTM(32))(embedded)\n",
        "x = keras.layers.Dropout(0.5)(x)\n",
        "outputs = keras.layers.Dense(1, activation=\"sigmoid\")(x)\n",
        "model = keras.Model(inputs,outputs)\n",
        "\n",
        "model.compile(loss=\"binary_crossentropy\",optimizer=\"rmsprop\",metrics=[\"accuracy\"])\n",
        "\n",
        "callbacks = [keras.callbacks.ModelCheckpoint(\"onehot_bidirectioanl_lstm.keras\", save_best_only=True)]\n",
        "\n",
        "history = model.fit(train_ds_int, epochs=10, validation_data=val_ds_int, callbacks=callbacks)"
      ],
      "metadata": {
        "colab": {
          "base_uri": "https://localhost:8080/"
        },
        "id": "nygz6cjTrHXj",
        "outputId": "6cf69482-d27f-43ae-dbc4-27faef067aa1"
      },
      "execution_count": 24,
      "outputs": [
        {
          "output_type": "stream",
          "name": "stdout",
          "text": [
            "Epoch 1/10\n",
            "625/625 [==============================] - 161s 249ms/step - loss: 0.5614 - accuracy: 0.7099 - val_loss: 0.5254 - val_accuracy: 0.7780\n",
            "Epoch 2/10\n",
            "625/625 [==============================] - 161s 258ms/step - loss: 0.3676 - accuracy: 0.8629 - val_loss: 0.3748 - val_accuracy: 0.8680\n",
            "Epoch 3/10\n",
            "625/625 [==============================] - 162s 259ms/step - loss: 0.2961 - accuracy: 0.8925 - val_loss: 0.3054 - val_accuracy: 0.8866\n",
            "Epoch 4/10\n",
            "625/625 [==============================] - 163s 261ms/step - loss: 0.2542 - accuracy: 0.9111 - val_loss: 0.3101 - val_accuracy: 0.8800\n",
            "Epoch 5/10\n",
            "625/625 [==============================] - 164s 262ms/step - loss: 0.2228 - accuracy: 0.9262 - val_loss: 0.3311 - val_accuracy: 0.8772\n",
            "Epoch 6/10\n",
            "625/625 [==============================] - 164s 263ms/step - loss: 0.1990 - accuracy: 0.9351 - val_loss: 0.3167 - val_accuracy: 0.8800\n",
            "Epoch 7/10\n",
            "625/625 [==============================] - 165s 264ms/step - loss: 0.1746 - accuracy: 0.9435 - val_loss: 0.6134 - val_accuracy: 0.8248\n",
            "Epoch 8/10\n",
            "625/625 [==============================] - 165s 263ms/step - loss: 0.1497 - accuracy: 0.9517 - val_loss: 0.6062 - val_accuracy: 0.8572\n",
            "Epoch 9/10\n",
            "625/625 [==============================] - 164s 263ms/step - loss: 0.1346 - accuracy: 0.9588 - val_loss: 0.4569 - val_accuracy: 0.8800\n",
            "Epoch 10/10\n",
            "625/625 [==============================] - 163s 261ms/step - loss: 0.1067 - accuracy: 0.9670 - val_loss: 0.3910 - val_accuracy: 0.8820\n"
          ]
        }
      ]
    },
    {
      "cell_type": "code",
      "source": [
        "train_acc = history.history[\"accuracy\"]\n",
        "val_acc = history.history[\"val_accuracy\"]\n",
        "plt.plot(train_acc,\"b.\",label=\"Train Accuracy\")\n",
        "plt.plot(val_acc,\"b-\",label=\"Validation Accuracy\")\n",
        "plt.xlabel(\"Epochs\")\n",
        "plt.ylabel(\"Accuracy\")\n",
        "plt.title(\"Train vs Validation Accuarcy \\n(One-Hot Bidirectional LSTM Model)\")\n",
        "plt.legend()\n",
        "plt.show()"
      ],
      "metadata": {
        "colab": {
          "base_uri": "https://localhost:8080/",
          "height": 310
        },
        "id": "KhLBXBTOsTJW",
        "outputId": "056e78fc-6120-43e9-b04b-88da3af12350"
      },
      "execution_count": 25,
      "outputs": [
        {
          "output_type": "display_data",
          "data": {
            "text/plain": [
              "<Figure size 432x288 with 1 Axes>"
            ],
            "image/png": "[encoded data removed]"
          },
          "metadata": {
            "needs_background": "light"
          }
        }
      ]
    },
    {
      "cell_type": "code",
      "source": [
        "model = keras.models.load_model(\"onehot_bidirectioanl_lstm.keras\")\n",
        "loss, acc = model.evaluate(test_ds_int)\n",
        "print(f\"Accuracy: {acc:.3f}\")"
      ],
      "metadata": {
        "colab": {
          "base_uri": "https://localhost:8080/"
        },
        "id": "vpDd9SzWst8X",
        "outputId": "bc74bf6f-c80a-45fe-aea1-d32eb284ca81"
      },
      "execution_count": 26,
      "outputs": [
        {
          "output_type": "stream",
          "name": "stdout",
          "text": [
            "782/782 [==============================] - 95s 121ms/step - loss: 0.3085 - accuracy: 0.8790\n",
            "Accuracy: 0.879\n"
          ]
        }
      ]
    },
    {
      "cell_type": "markdown",
      "source": [
        "## 5. Embedding Bidirectional LSTM Model"
      ],
      "metadata": {
        "id": "BRWPTyKA6a7f"
      }
    },
    {
      "cell_type": "code",
      "source": [
        "inputs = keras.Input(shape=(None,),dtype=\"int64\")\n",
        "embedded = keras.layers.Embedding(input_dim=max_tokens,output_dim=256, mask_zero=True)(inputs)\n",
        "x = keras.layers.Bidirectional(keras.layers.LSTM(32))(embedded)\n",
        "x = keras.layers.Dropout(0.5)(x)\n",
        "outputs = keras.layers.Dense(1, activation=\"sigmoid\")(x)\n",
        "model = keras.Model(inputs, outputs)\n",
        "\n",
        "model.compile(loss=\"binary_crossentropy\", optimizer=\"rmsprop\", metrics=[\"accuracy\"])\n",
        "\n",
        "callbacks = [keras.callbacks.ModelCheckpoint(\"embedding_bidirectional_lstm.keras\")]\n",
        "\n",
        "history = model.fit(train_ds_int, epochs=10, validation_data=val_ds_int, callbacks=callbacks)"
      ],
      "metadata": {
        "colab": {
          "base_uri": "https://localhost:8080/"
        },
        "id": "f_9WKgEstJ5I",
        "outputId": "d1ca2445-2b3d-480a-909d-46aff30b6d37"
      },
      "execution_count": 27,
      "outputs": [
        {
          "output_type": "stream",
          "name": "stdout",
          "text": [
            "Epoch 1/10\n",
            "625/625 [==============================] - 97s 142ms/step - loss: 0.4407 - accuracy: 0.7896 - val_loss: 0.3427 - val_accuracy: 0.8550\n",
            "Epoch 2/10\n",
            "625/625 [==============================] - 52s 84ms/step - loss: 0.2842 - accuracy: 0.8870 - val_loss: 0.2969 - val_accuracy: 0.8780\n",
            "Epoch 3/10\n",
            "625/625 [==============================] - 40s 64ms/step - loss: 0.2187 - accuracy: 0.9170 - val_loss: 0.3028 - val_accuracy: 0.8800\n",
            "Epoch 4/10\n",
            "625/625 [==============================] - 34s 55ms/step - loss: 0.1698 - accuracy: 0.9399 - val_loss: 0.3316 - val_accuracy: 0.8776\n",
            "Epoch 5/10\n",
            "625/625 [==============================] - 34s 54ms/step - loss: 0.1295 - accuracy: 0.9549 - val_loss: 0.3694 - val_accuracy: 0.8728\n",
            "Epoch 6/10\n",
            "625/625 [==============================] - 35s 56ms/step - loss: 0.0975 - accuracy: 0.9668 - val_loss: 0.4379 - val_accuracy: 0.8774\n",
            "Epoch 7/10\n",
            "625/625 [==============================] - 32s 51ms/step - loss: 0.0731 - accuracy: 0.9756 - val_loss: 0.4450 - val_accuracy: 0.8744\n",
            "Epoch 8/10\n",
            "625/625 [==============================] - 32s 51ms/step - loss: 0.0582 - accuracy: 0.9813 - val_loss: 0.4347 - val_accuracy: 0.8662\n",
            "Epoch 9/10\n",
            "625/625 [==============================] - 31s 49ms/step - loss: 0.0465 - accuracy: 0.9851 - val_loss: 0.6555 - val_accuracy: 0.8288\n",
            "Epoch 10/10\n",
            "625/625 [==============================] - 32s 51ms/step - loss: 0.0367 - accuracy: 0.9887 - val_loss: 0.6023 - val_accuracy: 0.8686\n"
          ]
        }
      ]
    },
    {
      "cell_type": "code",
      "source": [
        "train_acc = history.history[\"accuracy\"]\n",
        "val_acc = history.history[\"val_accuracy\"]\n",
        "plt.plot(train_acc,\"b.\",label=\"Train Accuracy\")\n",
        "plt.plot(val_acc,\"b-\",label=\"Validation Accuracy\")\n",
        "plt.xlabel(\"Epochs\")\n",
        "plt.ylabel(\"Accuracy\")\n",
        "plt.title(\"Train vs Validation Accuarcy \\n(Embedding Bidirectional LSTM Model)\")\n",
        "plt.legend()\n",
        "plt.show()"
      ],
      "metadata": {
        "colab": {
          "base_uri": "https://localhost:8080/",
          "height": 310
        },
        "id": "5z-HAIJV7lIc",
        "outputId": "794c3df0-eac6-415f-ff42-1717b7813fc5"
      },
      "execution_count": 28,
      "outputs": [
        {
          "output_type": "display_data",
          "data": {
            "text/plain": [
              "<Figure size 432x288 with 1 Axes>"
            ],
            "image/png": "[encoded data removed]"
          },
          "metadata": {
            "needs_background": "light"
          }
        }
      ]
    },
    {
      "cell_type": "code",
      "source": [
        "model = keras.models.load_model(\"embedding_bidirectional_lstm.keras\")\n",
        "loss, acc = model.evaluate(test_ds_int)\n",
        "print(f\"Accuracy: {acc:.3f}\")"
      ],
      "metadata": {
        "colab": {
          "base_uri": "https://localhost:8080/"
        },
        "id": "zCdXdBh7_gTg",
        "outputId": "3b62a179-c9b9-4524-ed2b-186911ec9689"
      },
      "execution_count": 29,
      "outputs": [
        {
          "output_type": "stream",
          "name": "stdout",
          "text": [
            "782/782 [==============================] - 17s 18ms/step - loss: 0.6371 - accuracy: 0.8618\n",
            "Accuracy: 0.862\n"
          ]
        }
      ]
    },
    {
      "cell_type": "markdown",
      "source": [
        "## 6. Pre-trained Embedding Bidirectional LSTM Model"
      ],
      "metadata": {
        "id": "yPWqW1aiEoLP"
      }
    },
    {
      "cell_type": "markdown",
      "source": [
        "We're gonna try [Global Vectors](https://nlp.stanford.edu/projects/glove) for Word Representation which was developed by Stanford researchers in 2014"
      ],
      "metadata": {
        "id": "AfO8mAbBMYsZ"
      }
    },
    {
      "cell_type": "code",
      "source": [
        "!wget http://nlp.stanford.edu/data/glove.6B.zip\n",
        "!unzip -q glove.6B.zip"
      ],
      "metadata": {
        "colab": {
          "base_uri": "https://localhost:8080/"
        },
        "id": "HWue0VqZ_kxO",
        "outputId": "9e0bf7de-662c-41c1-9e57-d5af05b12f5c"
      },
      "execution_count": 30,
      "outputs": [
        {
          "output_type": "stream",
          "name": "stdout",
          "text": [
            "--2023-03-12 18:46:08--  http://nlp.stanford.edu/data/glove.6B.zip\n",
            "Resolving nlp.stanford.edu (nlp.stanford.edu)... 171.64.67.140\n",
            "Connecting to nlp.stanford.edu (nlp.stanford.edu)|171.64.67.140|:80... connected.\n",
            "HTTP request sent, awaiting response... 302 Found\n",
            "Location: https://nlp.stanford.edu/data/glove.6B.zip [following]\n",
            "--2023-03-12 18:46:08--  https://nlp.stanford.edu/data/glove.6B.zip\n",
            "Connecting to nlp.stanford.edu (nlp.stanford.edu)|171.64.67.140|:443... connected.\n",
            "HTTP request sent, awaiting response... 301 Moved Permanently\n",
            "Location: https://downloads.cs.stanford.edu/nlp/data/glove.6B.zip [following]\n",
            "--2023-03-12 18:46:08--  https://downloads.cs.stanford.edu/nlp/data/glove.6B.zip\n",
            "Resolving downloads.cs.stanford.edu (downloads.cs.stanford.edu)... 171.64.64.22\n",
            "Connecting to downloads.cs.stanford.edu (downloads.cs.stanford.edu)|171.64.64.22|:443... connected.\n",
            "HTTP request sent, awaiting response... 200 OK\n",
            "Length: 862182613 (822M) [application/zip]\n",
            "Saving to: ‘glove.6B.zip’\n",
            "\n",
            "glove.6B.zip        100%[===================>] 822.24M  5.02MB/s    in 2m 39s  \n",
            "\n",
            "2023-03-12 18:48:48 (5.16 MB/s) - ‘glove.6B.zip’ saved [862182613/862182613]\n",
            "\n"
          ]
        }
      ]
    },
    {
      "cell_type": "code",
      "source": [
        "# Uploading the glove file as a python dictionary\n",
        "glove_100d = 'glove.6B.100d.txt'\n",
        "\n",
        "embeddings_index = {}\n",
        "with open(glove_100d) as f:\n",
        "  for line in f:\n",
        "    word, coefs = line.split(maxsplit=1)\n",
        "    coefs = np.fromstring(coefs,'f',sep=' ')\n",
        "    embeddings_index[word] = coefs\n",
        "\n",
        "len(embeddings_index)"
      ],
      "metadata": {
        "colab": {
          "base_uri": "https://localhost:8080/"
        },
        "id": "7xW8SRReEyYB",
        "outputId": "f7a1614b-64c3-47b9-8b40-c5cc47139a82"
      },
      "execution_count": 31,
      "outputs": [
        {
          "output_type": "execute_result",
          "data": {
            "text/plain": [
              "400000"
            ]
          },
          "metadata": {},
          "execution_count": 31
        }
      ]
    },
    {
      "cell_type": "code",
      "source": [
        "# Craeting the embedding_matrix\n",
        "embedding_dim = 100\n",
        "\n",
        "vocabulary = text_vectorization.get_vocabulary()\n",
        "word_index = dict(zip(vocabulary, range(len(vocabulary))))\n",
        "\n",
        "embedding_matrix = np.zeros((max_tokens, embedding_dim))\n",
        "for word, i in word_index.items():\n",
        "  if i < max_tokens:\n",
        "    embedding_vector = embeddings_index.get(word)\n",
        "  if embedding_vector is not None:\n",
        "    embedding_matrix[i] = embedding_vector"
      ],
      "metadata": {
        "id": "XTe-oCt6HLJB"
      },
      "execution_count": 32,
      "outputs": []
    },
    {
      "cell_type": "code",
      "source": [
        "inputs = keras.Input(shape=(None,),dtype=\"int64\")\n",
        "embedded = keras.layers.Embedding(max_tokens,embedding_dim,\n",
        "                                         embeddings_initializer=keras.initializers.Constant(embedding_matrix),\n",
        "                                         trainable=False, mask_zero=True)(inputs)\n",
        "x = keras.layers.Bidirectional(keras.layers.LSTM(32))(embedded)\n",
        "x = keras.layers.Dropout(0.5)(x)\n",
        "outputs = keras.layers.Dense(1, activation=\"sigmoid\")(x)\n",
        "model = keras.Model(inputs,outputs)\n",
        "\n",
        "model.compile(loss='binary_crossentropy', optimizer='rmsprop', metrics=['accuracy'])\n",
        "\n",
        "callbacks = [keras.callbacks.ModelCheckpoint(\"glove_embedding_bidirectioanl_lstm.keras\", save_best_only=True)]\n",
        "\n",
        "history = model.fit(train_ds_int, epochs=10, validation_data=val_ds_int, callbacks=callbacks)\n",
        "                                        "
      ],
      "metadata": {
        "colab": {
          "base_uri": "https://localhost:8080/"
        },
        "id": "e_OA-6qPIbcY",
        "outputId": "8941ad8c-a8a8-4394-d3bd-3b4b3ad7b545"
      },
      "execution_count": 33,
      "outputs": [
        {
          "output_type": "stream",
          "name": "stdout",
          "text": [
            "Epoch 1/10\n",
            "625/625 [==============================] - 52s 69ms/step - loss: 0.5793 - accuracy: 0.6867 - val_loss: 0.4661 - val_accuracy: 0.7920\n",
            "Epoch 2/10\n",
            "625/625 [==============================] - 36s 57ms/step - loss: 0.4556 - accuracy: 0.7936 - val_loss: 0.4121 - val_accuracy: 0.8210\n",
            "Epoch 3/10\n",
            "625/625 [==============================] - 34s 55ms/step - loss: 0.4043 - accuracy: 0.8223 - val_loss: 0.3665 - val_accuracy: 0.8446\n",
            "Epoch 4/10\n",
            "625/625 [==============================] - 31s 49ms/step - loss: 0.3742 - accuracy: 0.8370 - val_loss: 0.3456 - val_accuracy: 0.8564\n",
            "Epoch 5/10\n",
            "625/625 [==============================] - 37s 59ms/step - loss: 0.3470 - accuracy: 0.8508 - val_loss: 0.3402 - val_accuracy: 0.8618\n",
            "Epoch 6/10\n",
            "625/625 [==============================] - 36s 57ms/step - loss: 0.3247 - accuracy: 0.8638 - val_loss: 0.3491 - val_accuracy: 0.8556\n",
            "Epoch 7/10\n",
            "625/625 [==============================] - 34s 55ms/step - loss: 0.3054 - accuracy: 0.8723 - val_loss: 0.3125 - val_accuracy: 0.8688\n",
            "Epoch 8/10\n",
            "625/625 [==============================] - 33s 53ms/step - loss: 0.2882 - accuracy: 0.8821 - val_loss: 0.3005 - val_accuracy: 0.8742\n",
            "Epoch 9/10\n",
            "625/625 [==============================] - 34s 55ms/step - loss: 0.2744 - accuracy: 0.8893 - val_loss: 0.2952 - val_accuracy: 0.8782\n",
            "Epoch 10/10\n",
            "625/625 [==============================] - 32s 52ms/step - loss: 0.2591 - accuracy: 0.8921 - val_loss: 0.3139 - val_accuracy: 0.8714\n"
          ]
        }
      ]
    },
    {
      "cell_type": "code",
      "source": [
        "train_acc = history.history[\"accuracy\"]\n",
        "val_acc = history.history[\"val_accuracy\"]\n",
        "plt.plot(train_acc,\"b.\",label=\"Train Accuracy\")\n",
        "plt.plot(val_acc,\"b-\",label=\"Validation Accuracy\")\n",
        "plt.xlabel(\"Epochs\")\n",
        "plt.ylabel(\"Accuracy\")\n",
        "plt.title(\"Train vs Validation Accuarcy \\n(Pre-trained Embedding Bidirectional LSTM Model)\")\n",
        "plt.legend()\n",
        "plt.show()"
      ],
      "metadata": {
        "colab": {
          "base_uri": "https://localhost:8080/",
          "height": 310
        },
        "id": "JrzC0qCqJybT",
        "outputId": "5eda8480-6449-49c2-d628-939f60c8f3f9"
      },
      "execution_count": 34,
      "outputs": [
        {
          "output_type": "display_data",
          "data": {
            "text/plain": [
              "<Figure size 432x288 with 1 Axes>"
            ],
            "image/png": "[encoded data removed]"
          },
          "metadata": {
            "needs_background": "light"
          }
        }
      ]
    },
    {
      "cell_type": "code",
      "source": [
        "model = keras.models.load_model(\"glove_embedding_bidirectioanl_lstm.keras\")\n",
        "loss, acc = model.evaluate(test_ds_int)\n",
        "print(f\"Accuracy: {acc:.3f}\")"
      ],
      "metadata": {
        "colab": {
          "base_uri": "https://localhost:8080/"
        },
        "id": "cj-A2NwQKm7K",
        "outputId": "53a627e4-3013-43ca-9d56-b2c8b45d43e1"
      },
      "execution_count": 35,
      "outputs": [
        {
          "output_type": "stream",
          "name": "stdout",
          "text": [
            "782/782 [==============================] - 21s 23ms/step - loss: 0.2910 - accuracy: 0.8761\n",
            "Accuracy: 0.876\n"
          ]
        }
      ]
    },
    {
      "cell_type": "markdown",
      "source": [
        "## 7. TransformerEncoder Model"
      ],
      "metadata": {
        "id": "Ys-muLL480p2"
      }
    },
    {
      "cell_type": "code",
      "source": [
        "# Create a TransformerEncoder class\n",
        "class TransformerEncoder(keras.layers.Layer):\n",
        "    def __init__(self,embed_dim, dense_dim, num_heads, **kwargs):\n",
        "        super().__init__(**kwargs)\n",
        "        self.embed_dim = embed_dim\n",
        "        self.dense_dim = dense_dim\n",
        "        self.num_heads = num_heads\n",
        "        self.attention = keras.layers.MultiHeadAttention(num_heads=num_heads, key_dim=embed_dim)\n",
        "        self.dense_proj = keras.Sequential([keras.layers.Dense(dense_dim,activation=\"relu\"),keras.layers.Dense(embed_dim),])\n",
        "        self.layernorm_1 = keras.layers.LayerNormalization()\n",
        "        self.layernorm_2 = keras.layers.LayerNormalization()\n",
        "    def call(self, inputs, mask=None):\n",
        "        if mask is not None:\n",
        "            mask = mask[:, tf.newaxis, :]\n",
        "        attention_output =self.attention(inputs,inputs,attention_mask=mask)\n",
        "        proj_input = self.layernorm_1(inputs+attention_output)\n",
        "        proj_output = self.dense_proj(proj_input)\n",
        "        return self.layernorm_2(proj_input+proj_output)\n",
        "    def get_config(self):\n",
        "        config = super().get_config()\n",
        "        config.update({\n",
        "            \"embed_dim\": self.embed_dim,\n",
        "            \"num_heads\": self.num_heads,\n",
        "            \"dense_dim\": self.dense_dim\n",
        "        })\n",
        "        return config"
      ],
      "metadata": {
        "id": "-QAsAXnWKtlY"
      },
      "execution_count": 47,
      "outputs": []
    },
    {
      "cell_type": "code",
      "source": [
        "embed_dim = 256\n",
        "num_heads = 2\n",
        "dense_dim = 32\n",
        "\n",
        "inputs = keras.Input(shape=(None,),dtype=\"int64\")\n",
        "x = keras.layers.Embedding(max_tokens, embed_dim)(inputs)\n",
        "x = TransformerEncoder(embed_dim, dense_dim, num_heads)(x)\n",
        "x = keras.layers.GlobalMaxPooling1D()(x)\n",
        "x = keras.layers.Dropout(0.5)(x)\n",
        "outputs = keras.layers.Dense(1, activation=\"sigmoid\")(x)\n",
        "\n",
        "model = keras.Model(inputs, outputs)\n",
        "\n",
        "model.compile(loss=\"binary_crossentropy\",optimizer=\"rmsprop\",metrics=[\"accuracy\"])\n",
        "\n",
        "callbacks = [keras.callbacks.ModelCheckpoint(\"transformer_encoder.keras\", save_best_only=True)]\n",
        "\n",
        "history = model.fit(train_ds_int, epochs=20, validation_data=val_ds_int, callbacks=callbacks)"
      ],
      "metadata": {
        "colab": {
          "base_uri": "https://localhost:8080/"
        },
        "id": "GpZyywq48-p0",
        "outputId": "1b3ac1c9-3136-4c17-c9fb-ab74030826c9"
      },
      "execution_count": 48,
      "outputs": [
        {
          "output_type": "stream",
          "name": "stdout",
          "text": [
            "Epoch 1/20\n",
            "625/625 [==============================] - 67s 102ms/step - loss: 0.4851 - accuracy: 0.7714 - val_loss: 0.3827 - val_accuracy: 0.8268\n",
            "Epoch 2/20\n",
            "625/625 [==============================] - 51s 81ms/step - loss: 0.3394 - accuracy: 0.8550 - val_loss: 0.3638 - val_accuracy: 0.8358\n",
            "Epoch 3/20\n",
            "625/625 [==============================] - 49s 78ms/step - loss: 0.3030 - accuracy: 0.8717 - val_loss: 0.3010 - val_accuracy: 0.8684\n",
            "Epoch 4/20\n",
            "625/625 [==============================] - 46s 74ms/step - loss: 0.2699 - accuracy: 0.8879 - val_loss: 0.3075 - val_accuracy: 0.8666\n",
            "Epoch 5/20\n",
            "625/625 [==============================] - 46s 73ms/step - loss: 0.2384 - accuracy: 0.9050 - val_loss: 0.3009 - val_accuracy: 0.8764\n",
            "Epoch 6/20\n",
            "625/625 [==============================] - 45s 72ms/step - loss: 0.2065 - accuracy: 0.9190 - val_loss: 0.3072 - val_accuracy: 0.8806\n",
            "Epoch 7/20\n",
            "625/625 [==============================] - 44s 70ms/step - loss: 0.1773 - accuracy: 0.9319 - val_loss: 0.3454 - val_accuracy: 0.8690\n",
            "Epoch 8/20\n",
            "625/625 [==============================] - 45s 72ms/step - loss: 0.1518 - accuracy: 0.9441 - val_loss: 0.3766 - val_accuracy: 0.8646\n",
            "Epoch 9/20\n",
            "625/625 [==============================] - 44s 70ms/step - loss: 0.1283 - accuracy: 0.9517 - val_loss: 0.4293 - val_accuracy: 0.8562\n",
            "Epoch 10/20\n",
            "625/625 [==============================] - 43s 68ms/step - loss: 0.1021 - accuracy: 0.9631 - val_loss: 0.3722 - val_accuracy: 0.8756\n",
            "Epoch 11/20\n",
            "625/625 [==============================] - 43s 69ms/step - loss: 0.0829 - accuracy: 0.9707 - val_loss: 0.4049 - val_accuracy: 0.8734\n",
            "Epoch 12/20\n",
            "625/625 [==============================] - 44s 71ms/step - loss: 0.0631 - accuracy: 0.9786 - val_loss: 0.4483 - val_accuracy: 0.8700\n",
            "Epoch 13/20\n",
            "625/625 [==============================] - 45s 71ms/step - loss: 0.0501 - accuracy: 0.9812 - val_loss: 0.4687 - val_accuracy: 0.8732\n",
            "Epoch 14/20\n",
            "625/625 [==============================] - 43s 69ms/step - loss: 0.0388 - accuracy: 0.9854 - val_loss: 0.5060 - val_accuracy: 0.8720\n",
            "Epoch 15/20\n",
            "625/625 [==============================] - 43s 68ms/step - loss: 0.0321 - accuracy: 0.9894 - val_loss: 0.5919 - val_accuracy: 0.8680\n",
            "Epoch 16/20\n",
            "625/625 [==============================] - 43s 69ms/step - loss: 0.0261 - accuracy: 0.9916 - val_loss: 0.5701 - val_accuracy: 0.8724\n",
            "Epoch 17/20\n",
            "625/625 [==============================] - 44s 71ms/step - loss: 0.0212 - accuracy: 0.9927 - val_loss: 0.7125 - val_accuracy: 0.8520\n",
            "Epoch 18/20\n",
            "625/625 [==============================] - 42s 68ms/step - loss: 0.0190 - accuracy: 0.9934 - val_loss: 0.7067 - val_accuracy: 0.8656\n",
            "Epoch 19/20\n",
            "625/625 [==============================] - 44s 70ms/step - loss: 0.0193 - accuracy: 0.9930 - val_loss: 0.6920 - val_accuracy: 0.8716\n",
            "Epoch 20/20\n",
            "625/625 [==============================] - 44s 71ms/step - loss: 0.0176 - accuracy: 0.9934 - val_loss: 0.7136 - val_accuracy: 0.8632\n"
          ]
        }
      ]
    },
    {
      "cell_type": "code",
      "source": [
        "train_acc = history.history[\"accuracy\"]\n",
        "val_acc = history.history[\"val_accuracy\"]\n",
        "plt.plot(train_acc,\"b.\",label=\"Train Accuracy\")\n",
        "plt.plot(val_acc,\"b-\",label=\"Validation Accuracy\")\n",
        "plt.xlabel(\"Epochs\")\n",
        "plt.ylabel(\"Accuracy\")\n",
        "plt.title(\"Train vs Validation Accuarcy \\n(TransformerEncoder Model)\")\n",
        "plt.legend()\n",
        "plt.show()"
      ],
      "metadata": {
        "colab": {
          "base_uri": "https://localhost:8080/",
          "height": 310
        },
        "id": "ESrWN3Qy9Iy4",
        "outputId": "ab883b03-87a7-4775-bf6d-d0590ecaa9d4"
      },
      "execution_count": 49,
      "outputs": [
        {
          "output_type": "display_data",
          "data": {
            "text/plain": [
              "<Figure size 432x288 with 1 Axes>"
            ],
            "image/png": "[encoded data removed]"
          },
          "metadata": {
            "needs_background": "light"
          }
        }
      ]
    },
    {
      "cell_type": "code",
      "source": [
        "model = keras.models.load_model(\"transformer_encoder.keras\", custom_objects={\"TransformerEncoder\": TransformerEncoder})\n",
        "loss, acc = model.evaluate(test_ds_int)\n",
        "print(f\"Accuracy: {acc:.3f}\")"
      ],
      "metadata": {
        "colab": {
          "base_uri": "https://localhost:8080/"
        },
        "id": "kI4ILbzD9UJJ",
        "outputId": "0a17fb78-bdea-4a14-9d5b-2f924a682b3a"
      },
      "execution_count": 50,
      "outputs": [
        {
          "output_type": "stream",
          "name": "stdout",
          "text": [
            "782/782 [==============================] - 19s 24ms/step - loss: 0.3058 - accuracy: 0.8730\n",
            "Accuracy: 0.873\n"
          ]
        }
      ]
    },
    {
      "cell_type": "markdown",
      "source": [
        "## 8.TransformerEncoder with PositionalEmbedding Model"
      ],
      "metadata": {
        "id": "GHvBfA7c9bCD"
      }
    },
    {
      "cell_type": "code",
      "source": [
        "# Create a PositionalEmbedding Class\n",
        "class PositionalEmbedding(keras.layers.Layer):\n",
        "    def __init__(self,sequence_length, input_dim, output_dim, **kwargs):\n",
        "        super().__init__(**kwargs)\n",
        "        self.tokens_embeddings = keras.layers.Embedding(input_dim=input_dim, output_dim=output_dim)\n",
        "        self.position_embeddings = keras.layers.Embedding(input_dim=input_dim, output_dim=output_dim)\n",
        "        self.sequence_length = sequence_length\n",
        "        self.input_dim = input_dim\n",
        "        self.output_dim = output_dim\n",
        "    def call(self,inputs):\n",
        "        length = tf.shape(inputs)[-1]\n",
        "        positions = tf.range(0,limit=length, delta=1)\n",
        "        embedded_tokens = self.tokens_embeddings(inputs)\n",
        "        embedded_positions = self.position_embeddings(positions)\n",
        "        return embedded_tokens + embedded_positions\n",
        "    def compute_mask(self, inputs, mask=None):\n",
        "        return tf.math.not_equal(inputs,0)\n",
        "    def get_config(self):\n",
        "        config = super().get_config()\n",
        "        config.update({\n",
        "            \"output_dim\":self.output_dim,\n",
        "            \"input_dim\":self.input_dim,\n",
        "            \"sequence_length\":self.sequence_length\n",
        "        })\n",
        "        return config"
      ],
      "metadata": {
        "id": "oD7E_nLd9aQg"
      },
      "execution_count": 51,
      "outputs": []
    },
    {
      "cell_type": "code",
      "source": [
        "inputs = keras.Input(shape=(None,),dtype=\"int64\")\n",
        "embedded = PositionalEmbedding(sequence_length=max_length, input_dim=max_tokens, output_dim=embed_dim)(inputs)\n",
        "x = TransformerEncoder(embed_dim=embed_dim, dense_dim=dense_dim, num_heads=num_heads)(embedded)\n",
        "x = keras.layers.GlobalMaxPooling1D()(x)\n",
        "x = keras.layers.Dropout(0.5)(x)\n",
        "outputs = keras.layers.Dense(1, activation=\"sigmoid\")(x)\n",
        "model = keras.Model(inputs,outputs)\n",
        "\n",
        "model.compile(loss=\"binary_crossentropy\",optimizer=\"rmsprop\",metrics=[\"accuracy\"])\n",
        "\n",
        "callbacks = [keras.callbacks.ModelCheckpoint(\"transformer_encoder_positional_embeddings.keras\", save_best_only=True)]\n",
        "\n",
        "history = model.fit(train_ds_int, epochs=20, validation_data=val_ds_int, callbacks=callbacks)"
      ],
      "metadata": {
        "colab": {
          "base_uri": "https://localhost:8080/"
        },
        "id": "FGWN7Zsb9jTb",
        "outputId": "d3e7359c-d14b-405d-fce3-126b32a55fc2"
      },
      "execution_count": 52,
      "outputs": [
        {
          "output_type": "stream",
          "name": "stdout",
          "text": [
            "Epoch 1/20\n",
            "625/625 [==============================] - 73s 113ms/step - loss: 0.5448 - accuracy: 0.7336 - val_loss: 0.3369 - val_accuracy: 0.8496\n",
            "Epoch 2/20\n",
            "625/625 [==============================] - 54s 87ms/step - loss: 0.3035 - accuracy: 0.8730 - val_loss: 0.2977 - val_accuracy: 0.8802\n",
            "Epoch 3/20\n",
            "625/625 [==============================] - 51s 82ms/step - loss: 0.2375 - accuracy: 0.9046 - val_loss: 0.2901 - val_accuracy: 0.8882\n",
            "Epoch 4/20\n",
            "625/625 [==============================] - 48s 76ms/step - loss: 0.1943 - accuracy: 0.9236 - val_loss: 0.3236 - val_accuracy: 0.8772\n",
            "Epoch 5/20\n",
            "625/625 [==============================] - 47s 76ms/step - loss: 0.1607 - accuracy: 0.9392 - val_loss: 0.3850 - val_accuracy: 0.8776\n",
            "Epoch 6/20\n",
            "625/625 [==============================] - 48s 77ms/step - loss: 0.1395 - accuracy: 0.9493 - val_loss: 0.3916 - val_accuracy: 0.8806\n",
            "Epoch 7/20\n",
            "625/625 [==============================] - 47s 76ms/step - loss: 0.1188 - accuracy: 0.9582 - val_loss: 0.4332 - val_accuracy: 0.8838\n",
            "Epoch 8/20\n",
            "625/625 [==============================] - 47s 75ms/step - loss: 0.1020 - accuracy: 0.9625 - val_loss: 0.3810 - val_accuracy: 0.8816\n",
            "Epoch 9/20\n",
            "625/625 [==============================] - 47s 74ms/step - loss: 0.0801 - accuracy: 0.9718 - val_loss: 0.5318 - val_accuracy: 0.8726\n",
            "Epoch 10/20\n",
            "625/625 [==============================] - 47s 75ms/step - loss: 0.0584 - accuracy: 0.9794 - val_loss: 0.7472 - val_accuracy: 0.8482\n",
            "Epoch 11/20\n",
            "625/625 [==============================] - 47s 75ms/step - loss: 0.0513 - accuracy: 0.9825 - val_loss: 0.5551 - val_accuracy: 0.8742\n",
            "Epoch 12/20\n",
            "625/625 [==============================] - 45s 72ms/step - loss: 0.0410 - accuracy: 0.9849 - val_loss: 0.5830 - val_accuracy: 0.8764\n",
            "Epoch 13/20\n",
            "625/625 [==============================] - 46s 73ms/step - loss: 0.0316 - accuracy: 0.9898 - val_loss: 0.7652 - val_accuracy: 0.8794\n",
            "Epoch 14/20\n",
            "625/625 [==============================] - 47s 75ms/step - loss: 0.0263 - accuracy: 0.9918 - val_loss: 1.0079 - val_accuracy: 0.8806\n",
            "Epoch 15/20\n",
            "625/625 [==============================] - 47s 75ms/step - loss: 0.0223 - accuracy: 0.9924 - val_loss: 0.6424 - val_accuracy: 0.8750\n",
            "Epoch 16/20\n",
            "625/625 [==============================] - 47s 76ms/step - loss: 0.0161 - accuracy: 0.9944 - val_loss: 1.1694 - val_accuracy: 0.8714\n",
            "Epoch 17/20\n",
            "625/625 [==============================] - 47s 75ms/step - loss: 0.0163 - accuracy: 0.9949 - val_loss: 1.3002 - val_accuracy: 0.8650\n",
            "Epoch 18/20\n",
            "625/625 [==============================] - 48s 76ms/step - loss: 0.0165 - accuracy: 0.9942 - val_loss: 1.5622 - val_accuracy: 0.8578\n",
            "Epoch 19/20\n",
            "625/625 [==============================] - 47s 75ms/step - loss: 0.0130 - accuracy: 0.9957 - val_loss: 1.0642 - val_accuracy: 0.8722\n",
            "Epoch 20/20\n",
            "625/625 [==============================] - 48s 76ms/step - loss: 0.0111 - accuracy: 0.9969 - val_loss: 1.0638 - val_accuracy: 0.8556\n"
          ]
        }
      ]
    },
    {
      "cell_type": "code",
      "source": [
        "train_acc = history.history[\"accuracy\"]\n",
        "val_acc = history.history[\"val_accuracy\"]\n",
        "plt.plot(train_acc,\"b.\",label=\"Train Accuracy\")\n",
        "plt.plot(val_acc,\"b-\",label=\"Validation Accuracy\")\n",
        "plt.xlabel(\"Epochs\")\n",
        "plt.ylabel(\"Accuracy\")\n",
        "plt.title(\"Train vs Validation Accuarcy \\n(TransformerEncoder with PositionalEmbedding Model)\")\n",
        "plt.legend()\n",
        "plt.show()"
      ],
      "metadata": {
        "colab": {
          "base_uri": "https://localhost:8080/",
          "height": 310
        },
        "id": "rJISvDyY-Cxq",
        "outputId": "4e70871e-cfac-4c8a-8459-c1f1c814d851"
      },
      "execution_count": 53,
      "outputs": [
        {
          "output_type": "display_data",
          "data": {
            "text/plain": [
              "<Figure size 432x288 with 1 Axes>"
            ],
            "image/png": "[encoded data removed]"
          },
          "metadata": {
            "needs_background": "light"
          }
        }
      ]
    },
    {
      "cell_type": "code",
      "source": [
        "model = keras.models.load_model(\"transformer_encoder_positional_embeddings.keras\",\n",
        "                                custom_objects={\"TransformerEncoder\": TransformerEncoder,\"PositionalEmbedding\": PositionalEmbedding})\n",
        "loss, acc = model.evaluate(test_ds_int)\n",
        "print(f\"Accuracy: {acc:.3f}\")"
      ],
      "metadata": {
        "colab": {
          "base_uri": "https://localhost:8080/"
        },
        "id": "lsvXCbTm-C1U",
        "outputId": "f9d53fe0-a16e-458e-b952-a8bdc50dfc52"
      },
      "execution_count": 54,
      "outputs": [
        {
          "output_type": "stream",
          "name": "stdout",
          "text": [
            "782/782 [==============================] - 23s 29ms/step - loss: 0.2943 - accuracy: 0.8816\n",
            "Accuracy: 0.882\n"
          ]
        }
      ]
    },
    {
      "cell_type": "markdown",
      "source": [
        "# Conclusion\n",
        "The Binary Bigram Dense model outperforms the other models with %89.3 accuracy"
      ],
      "metadata": {
        "id": "UuKw3nEsdO3f"
      }
    },
    {
      "cell_type": "code",
      "source": [],
      "metadata": {
        "id": "NZB4wJiCeXHd"
      },
      "execution_count": null,
      "outputs": []
    }
  ]
}